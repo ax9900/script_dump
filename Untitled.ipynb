{
 "cells": [
  {
   "cell_type": "code",
   "execution_count": 1,
   "id": "c2629622-ab70-4eb4-a617-d056f10692d5",
   "metadata": {},
   "outputs": [
    {
     "name": "stderr",
     "output_type": "stream",
     "text": [
      "C:\\Users\\drew9\\anaconda3\\lib\\site-packages\\statsmodels\\tsa\\statespace\\sarimax.py:978: UserWarning: Non-invertible starting MA parameters found. Using zeros as starting parameters.\n",
      "  warn('Non-invertible starting MA parameters found.'\n",
      "C:\\Users\\drew9\\anaconda3\\lib\\site-packages\\statsmodels\\tsa\\statespace\\sarimax.py:978: UserWarning: Non-invertible starting MA parameters found. Using zeros as starting parameters.\n",
      "  warn('Non-invertible starting MA parameters found.'\n"
     ]
    },
    {
     "name": "stdout",
     "output_type": "stream",
     "text": [
      "Predicted Rows:\n",
      "            Event A  Event B  Event C  Total\n",
      "2023-02-01        0        2        0      2\n",
      "2023-02-02        2        0        0      2\n",
      "2023-02-03        2        1        1      4\n",
      "2023-02-04        2        2        2      6\n",
      "2023-02-05        2        2        2      6\n",
      "            Total  Event A  Event B  Event C\n",
      "2023-01-01      3        0        2        1\n",
      "2023-01-02      1        1        0        0\n",
      "2023-01-03      5        2        1        2\n",
      "2023-01-04      2        0        0        2\n",
      "2023-01-05      1        0        0        1\n",
      "2023-01-06      2        0        2        0\n",
      "2023-01-07      6        2        2        2\n",
      "2023-01-08      4        1        2        1\n",
      "2023-01-09      5        2        2        1\n",
      "2023-01-10      0        0        0        0\n",
      "2023-01-11      3        1        0        2\n",
      "2023-01-12      2        1        0        1\n",
      "2023-01-13      3        0        2        1\n",
      "2023-01-14      3        0        1        2\n",
      "2023-01-15      2        1        1        0\n",
      "2023-01-16      5        1        2        2\n",
      "2023-01-17      1        0        0        1\n",
      "2023-01-18      4        1        1        2\n",
      "2023-01-19      2        2        0        0\n",
      "2023-01-20      3        1        2        0\n",
      "2023-01-21      3        0        2        1\n",
      "2023-01-22      0        0        0        0\n",
      "2023-01-23      4        2        1        1\n",
      "2023-01-24      5        1        2        2\n",
      "2023-01-25      2        0        2        0\n",
      "2023-01-26      2        2        0        0\n",
      "2023-01-27      4        2        1        1\n",
      "2023-01-28      6        2        2        2\n",
      "2023-01-29      6        2        2        2\n",
      "2023-01-30      4        2        1        1\n",
      "2023-01-31      2        0        2        0\n",
      "2023-02-01      2        0        2        0\n",
      "2023-02-02      2        2        0        0\n",
      "2023-02-03      4        2        1        1\n",
      "2023-02-04      6        2        2        2\n",
      "2023-02-05      6        2        2        2\n"
     ]
    }
   ],
   "source": [
    "import pandas as pd\n",
    "import numpy as np\n",
    "from statsmodels.tsa.statespace.sarimax import SARIMAX\n",
    "from datetime import datetime, timedelta\n",
    "from openpyxl import Workbook\n",
    "from openpyxl.styles import Border, Side\n",
    "from openpyxl.utils import get_column_letter\n",
    "\n",
    "# Load the data from the Excel file\n",
    "data = pd.read_excel('data.xlsx', sheet_name='Sheet1')\n",
    "\n",
    "# Preprocess the data\n",
    "data['Date'] = pd.to_datetime(data['Date'], format='%Y/%m/%d')\n",
    "data.set_index('Date', inplace=True)\n",
    "data.index.freq = 'D'\n",
    "\n",
    "# Get the event column names dynamically\n",
    "event_columns = data.columns[1:]\n",
    "# event_columns = ['Event A', 'Event B', 'Event C']\n",
    "\n",
    "# Fit the SARIMA model and make predictions\n",
    "predictions = pd.DataFrame(index=pd.date_range(start=data.index[-1] + timedelta(days=1), periods=5, freq='D'))\n",
    "\n",
    "for column in event_columns:\n",
    "    model = SARIMAX(data[column], order=(1, 1, 1), seasonal_order=(1, 1, 0, 7),\n",
    "                    enforce_stationarity=False, initialization='approximate_diffuse')\n",
    "    model_fit = model.fit(maxiter=200)\n",
    "    forecast = model_fit.forecast(steps=5)\n",
    "    predictions[column] = np.round(forecast).astype(int).clip(lower=0)\n",
    "\n",
    "# Create 'Total' column for the prediction rows\n",
    "predictions['Total'] = predictions[event_columns].sum(axis=1)\n",
    "\n",
    "# Print the predicted rows and their total\n",
    "print(\"Predicted Rows:\")\n",
    "print(predictions)\n",
    "\n",
    "# Append the predictions to the original DataFrame\n",
    "data_with_predictions = pd.concat([data, predictions], sort=False)\n",
    "\n",
    "print(data_with_predictions)\n"
   ]
  },
  {
   "cell_type": "code",
   "execution_count": 2,
   "id": "663f2630-d597-4aa3-9647-f21daff3edff",
   "metadata": {},
   "outputs": [
    {
     "name": "stderr",
     "output_type": "stream",
     "text": [
      "C:\\Users\\drew9\\AppData\\Local\\Temp\\ipykernel_7252\\708592949.py:34: FutureWarning: save is not part of the public API, usage can give unexpected results and will be removed in a future version\n",
      "  writer.save()\n"
     ]
    }
   ],
   "source": [
    "# Reset the index and rename the column to 'Date'\n",
    "data_with_predictions.reset_index(inplace=True)\n",
    "data_with_predictions.rename(columns={'index': 'Date'}, inplace=True)\n",
    "\n",
    "# Format the 'Date' column\n",
    "data_with_predictions['Date'] = data_with_predictions['Date'].dt.strftime('%Y/%m/%d')\n",
    "\n",
    "# Save the DataFrame with predictions to an Excel file with borders\n",
    "writer = pd.ExcelWriter('data_with_predictions.xlsx', engine='openpyxl')\n",
    "data_with_predictions.to_excel(writer, index=False, sheet_name='Sheet1')\n",
    "\n",
    "# Add borders to all cells of the table\n",
    "workbook = writer.book\n",
    "worksheet = workbook['Sheet1']\n",
    "border = Border(top=Side(border_style='thin'), bottom=Side(border_style='thin'),\n",
    "                left=Side(border_style='thin'), right=Side(border_style='thin'))\n",
    "for row in worksheet.iter_rows(min_row=1, max_row=worksheet.max_row, min_col=1, max_col=worksheet.max_column):\n",
    "    for cell in row:\n",
    "        cell.border = border\n",
    "\n",
    "# Adjust column width of 'Date' column\n",
    "max_length = max(data_with_predictions['Date'].astype(str).map(len).max(), len('Date'))\n",
    "adjusted_width = (max_length + 2)  # Add some extra width for padding\n",
    "worksheet.column_dimensions['A'].width = adjusted_width\n",
    "\n",
    "# Adjust column width of other columns\n",
    "for column in event_columns:\n",
    "    max_length = max(data_with_predictions[column].astype(str).map(len).max(), len(column))\n",
    "    adjusted_width = (max_length + 2)  # Add some extra width for padding\n",
    "    column_letter = get_column_letter(data_with_predictions.columns.get_loc(column) + 2)  # Get the column letter\n",
    "    worksheet.column_dimensions[column_letter].width = adjusted_width\n",
    "\n",
    "# Save the Excel file\n",
    "writer.save()"
   ]
  },
  {
   "cell_type": "code",
   "execution_count": null,
   "id": "9fbf3b1e-f000-4e1f-ba21-21aa0748e138",
   "metadata": {},
   "outputs": [],
   "source": []
  }
 ],
 "metadata": {
  "kernelspec": {
   "display_name": "Python 3 (ipykernel)",
   "language": "python",
   "name": "python3"
  },
  "language_info": {
   "codemirror_mode": {
    "name": "ipython",
    "version": 3
   },
   "file_extension": ".py",
   "mimetype": "text/x-python",
   "name": "python",
   "nbconvert_exporter": "python",
   "pygments_lexer": "ipython3",
   "version": "3.10.9"
  }
 },
 "nbformat": 4,
 "nbformat_minor": 5
}
